{
 "cells": [
  {
   "cell_type": "code",
   "execution_count": 1,
   "id": "5f4ee208",
   "metadata": {},
   "outputs": [],
   "source": [
    "#Scenario 1: Grocery Shopping List\n",
    "#You are creating a program to manage a grocery shopping list. Users should be able to add items, \n",
    "#remove items, and display the current list.\n",
    "\n"
   ]
  },
  {
   "cell_type": "code",
   "execution_count": 11,
   "id": "63826727",
   "metadata": {},
   "outputs": [
    {
     "name": "stdout",
     "output_type": "stream",
     "text": [
      "\n",
      "Menu:\n",
      "1. Add item to the shopping list\n",
      "2. Remove item from the shopping list\n",
      "3. Display current shopping list\n",
      "4. Exit\n",
      "Enter your choice (1-4): 1\n",
      "Enter the item to add: milk\n",
      "milk added to the shopping list.\n",
      "\n",
      "Menu:\n",
      "1. Add item to the shopping list\n",
      "2. Remove item from the shopping list\n",
      "3. Display current shopping list\n",
      "4. Exit\n",
      "Enter your choice (1-4): shampoo\n",
      "Invalid choice. Please enter a number between 1 and 4.\n",
      "\n",
      "Menu:\n",
      "1. Add item to the shopping list\n",
      "2. Remove item from the shopping list\n",
      "3. Display current shopping list\n",
      "4. Exit\n",
      "Enter your choice (1-4): 1\n",
      "Enter the item to add: shampoo\n",
      "shampoo added to the shopping list.\n",
      "\n",
      "Menu:\n",
      "1. Add item to the shopping list\n",
      "2. Remove item from the shopping list\n",
      "3. Display current shopping list\n",
      "4. Exit\n",
      "Enter your choice (1-4): 3\n",
      "Current Shopping List:\n",
      "milk\n",
      "shampoo\n",
      "\n",
      "Menu:\n",
      "1. Add item to the shopping list\n",
      "2. Remove item from the shopping list\n",
      "3. Display current shopping list\n",
      "4. Exit\n",
      "Enter your choice (1-4): 4\n",
      "Exiting program. Thank you!\n"
     ]
    }
   ],
   "source": [
    "\n",
    "##Initialize an empty shopping list\n",
    "shopping_list = []\n",
    "\n",
    "# Function to add an item to the shopping list\n",
    "def add_item(item):\n",
    "    shopping_list.append(item)\n",
    "    print(f\"{item} added to the shopping list.\")\n",
    "# Function to remove an item from the shopping list\n",
    "def remove_item(item):\n",
    "    if item in shopping_list:\n",
    "        shopping_list.remove(item)\n",
    "        print(f\"{item} removed from the shopping list.\")\n",
    "    else:\n",
    "        print(f\"{item} not found in the shopping list.\")\n",
    "# Function to display the current shopping list\n",
    "def display_list():\n",
    "    if not shopping_list:\n",
    "        print(\"The shopping list is empty.\")\n",
    "    else:\n",
    "        print(\"Current Shopping List:\")\n",
    "        for item in shopping_list:\n",
    "            print(item)\n",
    "        \n",
    "# Main program loop\n",
    "while True:\n",
    "    print(\"\\nMenu:\")\n",
    "    print(\"1. Add item to the shopping list\")\n",
    "    print(\"2. Remove item from the shopping list\")\n",
    "    print(\"3. Display current shopping list\")\n",
    "    print(\"4. Exit\")\n",
    "\n",
    "    choice = input(\"Enter your choice (1-4): \")\n",
    "\n",
    "    if choice == '1':\n",
    "        item = input(\"Enter the item to add: \")\n",
    "        add_item(item)\n",
    "\n",
    "    elif choice == '2':\n",
    "        item = input(\"Enter the item to remove: \")\n",
    "        remove_item(item)\n",
    "\n",
    "    elif choice == '3':\n",
    "        display_list()\n",
    "\n",
    "    elif choice == '4':\n",
    "        print(\"Exiting program. Thank you!\")\n",
    "        break\n",
    "\n",
    "    else:\n",
    "        print(\"Invalid choice. Please enter a number between 1 and 4.\")\n",
    "\n",
    "        "
   ]
  },
  {
   "cell_type": "code",
   "execution_count": null,
   "id": "4b681b80",
   "metadata": {},
   "outputs": [],
   "source": [
    "#Scenario 2: Password Strength Checker\n",
    "#You are creating a program to check the strength of passwords based on certain criteria.\n",
    "#• Password should be at least 8 characters long.\n",
    "#• Password should contain at least one digit.\n",
    "#• Password should contain at least one letter."
   ]
  },
  {
   "cell_type": "code",
   "execution_count": 14,
   "id": "a6031b7b",
   "metadata": {},
   "outputs": [
    {
     "name": "stdout",
     "output_type": "stream",
     "text": [
      "Enter your password: clock12343\n",
      "Strong: Password meets the strength criteria.\n"
     ]
    }
   ],
   "source": [
    "def check_password_strength(password):\n",
    "    # Check the length\n",
    "    if len(password) < 8:\n",
    "        return \"Weak: Password should be at least 8 characters long.\"\n",
    "\n",
    "    # Check for at least one digit\n",
    "    if not any(char.isdigit() for char in password):\n",
    "        return \"Weak: Password should contain at least one digit.\"\n",
    "\n",
    "    # Check for at least one letter\n",
    "    if not any(char.isalpha() for char in password):\n",
    "        return \"Weak: Password should contain at least one letter.\"\n",
    "\n",
    "    # If all criteria are met\n",
    "    return \"Strong: Password meets the strength criteria.\"\n",
    "\n",
    "# Example usage:\n",
    "if __name__ == \"__main__\":\n",
    "    password = input(\"Enter your password: \")\n",
    "    result = check_password_strength(password)\n",
    "    print(result)\n"
   ]
  },
  {
   "cell_type": "code",
   "execution_count": 15,
   "id": "0d04f30d",
   "metadata": {},
   "outputs": [],
   "source": [
    "#Scenario 3: Student Grades\n",
    "#You are managing student grades using a dictionary. You need to calculate the average grade.take \n",
    "#tleast 5 Students grades & then calculate the average."
   ]
  },
  {
   "cell_type": "code",
   "execution_count": 20,
   "id": "5cd0fca7",
   "metadata": {},
   "outputs": [
    {
     "name": "stdout",
     "output_type": "stream",
     "text": [
      "Enter your Subject (or type 'quit' to exit): Chemistry\n",
      "Enter Chemistry's marks: 56\n",
      "Enter your Subject (or type 'quit' to exit): urdu\n",
      "Enter urdu's marks: 88\n",
      "Enter your Subject (or type 'quit' to exit): english\n",
      "Enter english's marks: 88\n",
      "Enter your Subject (or type 'quit' to exit): finance\n",
      "Enter finance's marks: 99\n",
      "Enter your Subject (or type 'quit' to exit): quit\n",
      "Average: 82.75\n"
     ]
    }
   ],
   "source": [
    "Student_grades = {}\n",
    "\n",
    "def cal_average():\n",
    "    total_grades = sum(Student_grades.values())\n",
    "    average = total_grades / len(Student_grades)\n",
    "    return average\n",
    "\n",
    "while True:\n",
    "    subject = input(\"Enter your Subject (or type 'quit' to exit): \")\n",
    "\n",
    "    if subject.lower() == 'quit':\n",
    "        break\n",
    "\n",
    "    marks = int(input(f\"Enter {subject}'s marks: \"))\n",
    "\n",
    "    Student_grades[subject] = marks\n",
    "\n",
    "# Calculate and display the average\n",
    "if Student_grades:\n",
    "    average_result = cal_average()\n",
    "    print(f\"Average: {average_result}\")\n",
    "else:\n",
    "    print(\"No grades entered.\")\n"
   ]
  },
  {
   "cell_type": "code",
   "execution_count": 21,
   "id": "8f60dbc5",
   "metadata": {},
   "outputs": [
    {
     "data": {
      "text/plain": [
       "{'Chemistry': 56, 'urdu': 88, 'english': 88, 'finance': 99}"
      ]
     },
     "execution_count": 21,
     "metadata": {},
     "output_type": "execute_result"
    }
   ],
   "source": [
    "Student_grades"
   ]
  },
  {
   "cell_type": "code",
   "execution_count": null,
   "id": "a29da9b6",
   "metadata": {},
   "outputs": [],
   "source": []
  }
 ],
 "metadata": {
  "kernelspec": {
   "display_name": "Python 3 (ipykernel)",
   "language": "python",
   "name": "python3"
  },
  "language_info": {
   "codemirror_mode": {
    "name": "ipython",
    "version": 3
   },
   "file_extension": ".py",
   "mimetype": "text/x-python",
   "name": "python",
   "nbconvert_exporter": "python",
   "pygments_lexer": "ipython3",
   "version": "3.11.5"
  }
 },
 "nbformat": 4,
 "nbformat_minor": 5
}
